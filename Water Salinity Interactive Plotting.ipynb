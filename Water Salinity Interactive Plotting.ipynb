{
 "cells": [
  {
   "cell_type": "code",
   "execution_count": 1,
   "metadata": {},
   "outputs": [],
   "source": [
    "import os\n",
    "import pandas as pd\n",
    "import matplotlib.pyplot as plt\n",
    "from mpl_toolkits.axes_grid1 import make_axes_locatable\n",
    "import geopandas\n",
    "from ipywidgets import interact, interact_manual  \n",
    "import seaborn as sns"
   ]
  },
  {
   "cell_type": "markdown",
   "metadata": {},
   "source": [
    "# Read in Data (Already cleaned in .py file)"
   ]
  },
  {
   "cell_type": "code",
   "execution_count": 2,
   "metadata": {},
   "outputs": [],
   "source": [
    "path = r'C:\\Users\\Ruairi\\documents\\github\\final-project-final-project-ruairi-ocearuil'\n",
    "def read_in_premade_data(no_outliers=False):\n",
    "    if(no_outliers):\n",
    "        df_final = pd.read_csv(os.path.join(path, 'df_final.csv'))\n",
    "    else:\n",
    "        df_final = pd.read_csv(os.path.join(path, 'df_final_reduced.csv'))\n",
    "    return df_final"
   ]
  },
  {
   "cell_type": "markdown",
   "metadata": {},
   "source": [
    "# Interactive Plot 1: Spatial Mapping (with helper function)"
   ]
  },
  {
   "cell_type": "code",
   "execution_count": 3,
   "metadata": {},
   "outputs": [],
   "source": [
    "# First 2 functions are helper functions taken from my .py file\n",
    "def reconcile_world_country_names(this_country, df):\n",
    "    countries_to_match = df['Country'].unique()\n",
    "    updated_country = this_country\n",
    "    for country in countries_to_match:\n",
    "        if(this_country.startswith('Bosnia') and country.startswith('Bosnia')):\n",
    "            updated_country =  country\n",
    "        elif(this_country.startswith('Czech') and country.startswith('Czech')):\n",
    "            updated_country = country\n",
    "    return updated_country\n",
    "\n",
    "def world_pd_2_world_geo(df_final):\n",
    "    world_geo = geopandas.read_file(geopandas.datasets.get_path('naturalearth_lowres'))\n",
    "    world_geo['name'] = world_geo['name'].apply(lambda x : reconcile_world_country_names(x, df_final))\n",
    "    df_merged_pandas = df_final.merge(world_geo[['name', 'geometry']], left_on='Country', right_on='name')\n",
    "    df_merged_geo = geopandas.GeoDataFrame(df_merged_pandas, geometry='geometry')\n",
    "    df_merged_geo.set_crs(epsg=4326)\n",
    "    return df_merged_geo\n",
    "\n",
    "def plot_choropleth(df_final_geo, year, var):\n",
    "    # https://stackabuse.com/change-figure-size-in-matplotlib/\n",
    "    # https://gis.stackexchange.com/questions/152920/changing-colours-in-geopandas\n",
    "    color_map_dict = {'Count': 'GnBu', 'Avg_EC': 'OrRd'}\n",
    "    this_yr_df = df_final_geo[df_final_geo['Year'] == year]\n",
    "    fig, ax = plt.subplots(figsize=(14,14))\n",
    "    divider = make_axes_locatable(ax)\n",
    "    cax = divider.append_axes('right', size='5%', pad=0.1)\n",
    "    this_ax = this_yr_df.plot(ax=ax,\n",
    "                     column=var,\n",
    "                     edgecolor='grey',\n",
    "                     legend=True,\n",
    "                     cmap='viridis',\n",
    "                     cax=cax)\n",
    "    this_ax.set_title(f'{var} Levels in {year}')\n",
    "    return fig"
   ]
  },
  {
   "cell_type": "code",
   "execution_count": 4,
   "metadata": {},
   "outputs": [
    {
     "data": {
      "application/vnd.jupyter.widget-view+json": {
       "model_id": "5a095e7310004534ace0503789138b0e",
       "version_major": 2,
       "version_minor": 0
      },
      "text/plain": [
       "interactive(children=(IntSlider(value=1999, description='year', max=2019, min=1980), Dropdown(description='var…"
      ]
     },
     "metadata": {},
     "output_type": "display_data"
    }
   ],
   "source": [
    "df_final_pd = read_in_premade_data(no_outliers=False)\n",
    "df_final_geo = world_pd_2_world_geo(df_final_pd)\n",
    "\n",
    "years=(1980,2019)\n",
    "var_list = ['Avg_EC', 'Count', 'Stat_ID_Count'] + list(df_final_geo.columns)[-11:-2]\n",
    "\n",
    "@interact\n",
    "def final_plot(year=years, var=var_list):\n",
    "    fig = plot_choropleth(df_final_geo, year, var)\n",
    "    fig.show"
   ]
  },
  {
   "cell_type": "markdown",
   "metadata": {},
   "source": [
    "# Interactive Plot 2: Timeseries"
   ]
  },
  {
   "cell_type": "code",
   "execution_count": 5,
   "metadata": {},
   "outputs": [],
   "source": [
    "def plot_timeseries_cntry_var(df_final_pd, country_list, var_list, water_type='River'):\n",
    "    # https://medium.com/@andykashyap/top-5-tricks-to-make-plots-look-better-9f6e687c1e08\n",
    "    assert len(var_list) <= 2, \"Please input up to 2 variables of interest.\"\n",
    "    this_df_pd = df_final_pd[df_final_pd['Country'].isin(country_list)]\n",
    "    if('Count' in var_list or 'Avg_EC' in var_list):\n",
    "        this_df_pd = this_df_pd[this_df_pd['Water_type'] == water_type]\n",
    "    sns.set()\n",
    "    sns.set_style('darkgrid')\n",
    "    sns.set_context('paper')\n",
    "    fig_ts, ax_ts = plt.subplots(len(var_list),1,figsize=(7,7))\n",
    "    fig_ts.tight_layout(pad=3)\n",
    "    for var_ind in range(len(var_list)): \n",
    "        if(len(var_list) == 1):\n",
    "            this_ax = ax_ts\n",
    "        elif(len(var_list) == 2):\n",
    "            this_ax = ax_ts[var_ind]\n",
    "        # https://stackoverflow.com/questions/51762938/seaborn-color-palette-not-working-appropiate-with-lineplot\n",
    "        this_ax = sns.lineplot(x='Year',\n",
    "                               y=var_list[var_ind],\n",
    "                               hue='Country',\n",
    "                               palette=sns.color_palette('colorblind',\n",
    "                                                           n_colors=len(set(country_list))),\n",
    "                               data=this_df_pd,\n",
    "                               ax=this_ax)\n",
    "        this_ax.set_title(f'Timeseries of {var_list[var_ind]}',\n",
    "                          weight='bold') \n",
    "        this_ax.set_xlabel('') # No need to label year, it is clear in plot\n",
    "        this_ax.set_ylabel(var_list[var_ind].replace('_',' '), \n",
    "                           weight='bold')\n",
    "        this_ax.legend(loc='center left', bbox_to_anchor=(1,0.5),\n",
    "                       fancybox=True, shadow=True)    \n",
    "    sns.reset_orig()\n",
    "    return fig_ts"
   ]
  },
  {
   "cell_type": "code",
   "execution_count": 6,
   "metadata": {},
   "outputs": [
    {
     "data": {
      "application/vnd.jupyter.widget-view+json": {
       "model_id": "9edef8dc61c248819dbe0efd200581a6",
       "version_major": 2,
       "version_minor": 0
      },
      "text/plain": [
       "interactive(children=(Dropdown(description='c1', options=('Argentina', 'Australia', 'Austria', 'Bangladesh', '…"
      ]
     },
     "metadata": {},
     "output_type": "display_data"
    }
   ],
   "source": [
    "def make_final_timeseries(df_final_pd, c1, c2, c3, c4, var1, var2, water_type='River'):\n",
    "    country_list = [country for country in [c1, c2, c3, c4] if country]\n",
    "    var_list = [var for var in [var1, var2] if var]\n",
    "    fig = plot_timeseries_cntry_var(df_final_geo, country_list, var_list, water_type)\n",
    "    return fig\n",
    "\n",
    "water_type_opts = ['River', 'Lake/Reservoir', 'Groundwater']\n",
    "var_opts = var_list = list(df_final_pd.columns)[-9:] +  ['Avg_EC', 'Count', None] \n",
    "country_opts = list(df_final_pd['Country'].unique()) + [None]\n",
    "\n",
    "@interact\n",
    "def final_plot(c1=country_opts, c2=country_opts, c3=country_opts, c4=country_opts,\n",
    "               var1=var_opts, var2=var_opts,\n",
    "               water_type=water_type_opts):\n",
    "    fig = make_final_timeseries(df_final_pd, c1, c2, c3, c4, var1, var2, water_type)\n",
    "    fig.show"
   ]
  }
 ],
 "metadata": {
  "kernelspec": {
   "display_name": "Python 3",
   "language": "python",
   "name": "python3"
  },
  "language_info": {
   "codemirror_mode": {
    "name": "ipython",
    "version": 3
   },
   "file_extension": ".py",
   "mimetype": "text/x-python",
   "name": "python",
   "nbconvert_exporter": "python",
   "pygments_lexer": "ipython3",
   "version": "3.8.5"
  }
 },
 "nbformat": 4,
 "nbformat_minor": 4
}
